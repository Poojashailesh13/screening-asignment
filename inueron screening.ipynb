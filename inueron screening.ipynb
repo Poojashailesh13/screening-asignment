{
 "cells": [
  {
   "cell_type": "code",
   "execution_count": null,
   "id": "3ae0aaba",
   "metadata": {},
   "outputs": [],
   "source": [
    "1. Create a function in python to read the text file and replace specific content\n",
    "of the file.\n",
    "\n",
    "File name example.txt\n",
    "Origin file content This is a placement assignment\n",
    "Replace string Placement should be replaced by\n",
    "\n",
    "screening.\n",
    "\n",
    "Replaced file content This is a screening assignment\n",
    "\n",
    "ans- with open('example.txt', \"w\") as f:\n",
    "    f.write(\"This is a placement assignment\")\n",
    "    f.close()\n",
    "def replace_string(file):\n",
    "    file = open(file, 'r')\n",
    "    file = file.read()\n",
    "    file = file.replace('placement', 'screening')\n",
    "    print(file)\n",
    "    \n",
    "replace_string('example.txt')"
   ]
  },
  {
   "cell_type": "code",
   "execution_count": null,
   "id": "ec960638",
   "metadata": {},
   "outputs": [],
   "source": []
  },
  {
   "cell_type": "code",
   "execution_count": null,
   "id": "1642f4ac",
   "metadata": {},
   "outputs": [],
   "source": [
    "2. Demonstrate use of abstract class, multiple inheritance and decorator in\n",
    "python using examples.\n",
    "ans-Abstraction is implemented using the abstract classes. An abstract class in Python is typically created to declare a set of methods that must be created in any child class built on top of this abstract class. Similarly, an abstract method is one that doesn't have any implementation.\n",
    "\n",
    "Abstract methods force the child classes to give the implementation of these methods in them and thus help us achieve abstraction as each subclass can give its own implementation. A class containing more than one abstract method is called an abstract class.\n",
    "There are plenty of real-life examples like, when we press a button on a TV remote to change the channel, we don’t know how it does that, we are just interested in that when we press a particular button, it changes the channel.\n",
    "from abc import ABC, abstractmethod\n",
    " \n",
    "class Shape(ABC):\n",
    "    def __init__(self, shape_name):\n",
    "        self.shape_name = shape_name\n",
    "    \n",
    "    @abstractmethod\n",
    "    def draw(self):\n",
    "        pass\n",
    "    \n",
    " multiple inheritance -When a class is derived from more than one base class it is called multiple Inheritance. The derived class inherits all the features of the base case.\n",
    "  class Class1:\n",
    "    def m(self):\n",
    "        print(\"In Class1\")\n",
    "       \n",
    "class Class2(Class1):\n",
    "    def m(self):\n",
    "        print(\"In Class2\")\n",
    " \n",
    "class Class3(Class1):\n",
    "    def m(self):\n",
    "        print(\"In Class3\") \n",
    "        \n",
    "class Class4(Class2, Class3):\n",
    "    pass  \n",
    "     \n",
    "obj = Class4()\n",
    "obj.m()\n",
    "\n",
    "Decorators- Decorators are a very powerful and useful tool in Python since it allows programmers to modify the behaviour of function or class. Decorators allow us to wrap another function in order to extend the behaviour of the wrapped function, without permanently modifying it.\n",
    "def shout(text):\n",
    "    return text.upper()\n",
    " \n",
    "print(shout('Hello'))\n",
    " \n",
    "yell = shout\n",
    " \n",
    "print(yell('Hello'))"
   ]
  }
 ],
 "metadata": {
  "kernelspec": {
   "display_name": "Python 3 (ipykernel)",
   "language": "python",
   "name": "python3"
  },
  "language_info": {
   "codemirror_mode": {
    "name": "ipython",
    "version": 3
   },
   "file_extension": ".py",
   "mimetype": "text/x-python",
   "name": "python",
   "nbconvert_exporter": "python",
   "pygments_lexer": "ipython3",
   "version": "3.9.7"
  }
 },
 "nbformat": 4,
 "nbformat_minor": 5
}
